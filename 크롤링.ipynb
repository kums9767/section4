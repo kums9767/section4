{
 "cells": [
  {
   "cell_type": "code",
   "execution_count": 6,
   "id": "47bd461e",
   "metadata": {},
   "outputs": [],
   "source": [
    "import requests\n",
    "from bs4 import BeautifulSoup\n",
    "\n",
    "url = \"https://www.op.gg/statistics/champions\"\n",
    "\n",
    "response = requests.get(url)\n",
    "soup = BeautifulSoup(response.text, \"html.parser\")\n",
    "\n",
    "\n",
    "# 챔피언 통계 정보를 담고 있는 요소를 찾습니다.\n",
    "champion_stats = soup.find_all(\"div\", class_=\"champion-index__champion-item\")\n",
    "\n",
    "# 챔피언별 통계를 추출합니다.\n",
    "for stat in champion_stats:\n",
    "    champion_name = stat.find(\"div\", class_=\"champion-index__champion-item__name\").text.strip()\n",
    "    play_count = stat.find(\"div\", class_=\"champion-index__champion-item__played\").text.strip()\n",
    "    rating = stat.find(\"div\", class_=\"champion-index__champion-item__rating\").text.strip()\n",
    "    pick_rate = stat.find(\"div\", class_=\"champion-index__champion-item__pickrate\").text.strip()\n",
    "    ban_rate = stat.find(\"div\", class_=\"champion-index__champion-item__banrate\").text.strip()\n",
    "\n",
    "    print(\"챔피언:\", champion_name)\n",
    "    print(\"플레이수:\", play_count)\n",
    "    print(\"평점:\", rating)\n",
    "    print(\"게임당 픽률:\", pick_rate)\n",
    "    print(\"게임당 벤율:\", ban_rate)\n",
    "    print(\"-----------------------\")"
   ]
  },
  {
   "cell_type": "code",
   "execution_count": 8,
   "id": "671ef987",
   "metadata": {},
   "outputs": [
    {
     "data": {
      "text/plain": [
       "[]"
      ]
     },
     "execution_count": 8,
     "metadata": {},
     "output_type": "execute_result"
    }
   ],
   "source": []
  },
  {
   "cell_type": "code",
   "execution_count": null,
   "id": "7bd678b6",
   "metadata": {},
   "outputs": [],
   "source": []
  }
 ],
 "metadata": {
  "kernelspec": {
   "display_name": "Python 3 (ipykernel)",
   "language": "python",
   "name": "python3"
  },
  "language_info": {
   "codemirror_mode": {
    "name": "ipython",
    "version": 3
   },
   "file_extension": ".py",
   "mimetype": "text/x-python",
   "name": "python",
   "nbconvert_exporter": "python",
   "pygments_lexer": "ipython3",
   "version": "3.9.7"
  }
 },
 "nbformat": 4,
 "nbformat_minor": 5
}
